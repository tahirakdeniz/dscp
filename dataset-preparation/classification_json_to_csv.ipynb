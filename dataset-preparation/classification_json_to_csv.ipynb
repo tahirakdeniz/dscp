{
 "cells": [
  {
   "cell_type": "code",
   "execution_count": 1,
   "metadata": {},
   "outputs": [],
   "source": [
    "classification_json_file = \"E:\\\\DSCP\\\\git\\\\FormAI-dataset\\\\FormAI-v2-classification\\\\FormAI-v2.json\"\n",
    "output_csv_file = 'D:\\\\git\\\\dscp\\\\data\\\\classification_raw.csv'"
   ]
  },
  {
   "cell_type": "code",
   "execution_count": 2,
   "metadata": {},
   "outputs": [],
   "source": [
    "import json\n",
    "import csv"
   ]
  },
  {
   "cell_type": "code",
   "execution_count": 3,
   "metadata": {},
   "outputs": [],
   "source": [
    "with open(classification_json_file, 'r') as json_file:\n",
    "    data = json.load(json_file)"
   ]
  },
  {
   "cell_type": "code",
   "execution_count": 4,
   "metadata": {},
   "outputs": [
    {
     "name": "stdout",
     "output_type": "stream",
     "text": [
      "CSV file 'D:\\git\\dscp\\data\\classification_raw.csv' has been created successfully.\n"
     ]
    }
   ],
   "source": [
    "# Define the desired keys\n",
    "desired_keys = ['file_name', 'category', 'verification_finished']\n",
    "\n",
    "# Write to CSV file\n",
    "with open(output_csv_file, mode='w', newline='', encoding='utf-8') as file:\n",
    "    writer = csv.DictWriter(file, fieldnames=desired_keys)\n",
    "    \n",
    "    # Write the header row\n",
    "    writer.writeheader()\n",
    "    \n",
    "    # Write each JSON object as a row in the CSV, only if category is not 'UNKNOWN'\n",
    "    for row in data:\n",
    "        if row['category'] != 'UNKNOWN (time out)':\n",
    "            writer.writerow({key: row[key] for key in desired_keys})\n",
    "\n",
    "print(f\"CSV file '{output_csv_file}' has been created successfully.\")"
   ]
  }
 ],
 "metadata": {
  "kernelspec": {
   "display_name": "Python 3",
   "language": "python",
   "name": "python3"
  },
  "language_info": {
   "codemirror_mode": {
    "name": "ipython",
    "version": 3
   },
   "file_extension": ".py",
   "mimetype": "text/x-python",
   "name": "python",
   "nbconvert_exporter": "python",
   "pygments_lexer": "ipython3",
   "version": "3.11.5"
  }
 },
 "nbformat": 4,
 "nbformat_minor": 2
}
