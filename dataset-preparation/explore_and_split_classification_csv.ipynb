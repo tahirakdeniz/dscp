{
 "cells": [
  {
   "cell_type": "code",
   "execution_count": 1,
   "metadata": {},
   "outputs": [
    {
     "data": {
      "text/html": [
       "<div>\n",
       "<style scoped>\n",
       "    .dataframe tbody tr th:only-of-type {\n",
       "        vertical-align: middle;\n",
       "    }\n",
       "\n",
       "    .dataframe tbody tr th {\n",
       "        vertical-align: top;\n",
       "    }\n",
       "\n",
       "    .dataframe thead th {\n",
       "        text-align: right;\n",
       "    }\n",
       "</style>\n",
       "<table border=\"1\" class=\"dataframe\">\n",
       "  <thead>\n",
       "    <tr style=\"text-align: right;\">\n",
       "      <th></th>\n",
       "      <th>file_name</th>\n",
       "      <th>vulnerability</th>\n",
       "      <th>model</th>\n",
       "    </tr>\n",
       "  </thead>\n",
       "  <tbody>\n",
       "    <tr>\n",
       "      <th>0</th>\n",
       "      <td>gpt4o_mini-34206.c</td>\n",
       "      <td>1</td>\n",
       "      <td>gpt4o_mini</td>\n",
       "    </tr>\n",
       "    <tr>\n",
       "      <th>1</th>\n",
       "      <td>gemini_pro-14924.c</td>\n",
       "      <td>1</td>\n",
       "      <td>gemini_pro</td>\n",
       "    </tr>\n",
       "    <tr>\n",
       "      <th>2</th>\n",
       "      <td>falcon180b-35726.c</td>\n",
       "      <td>1</td>\n",
       "      <td>falcon180b</td>\n",
       "    </tr>\n",
       "    <tr>\n",
       "      <th>3</th>\n",
       "      <td>gemma7b-15674.c</td>\n",
       "      <td>0</td>\n",
       "      <td>gemma7b</td>\n",
       "    </tr>\n",
       "    <tr>\n",
       "      <th>4</th>\n",
       "      <td>gemma7b-6476.c</td>\n",
       "      <td>1</td>\n",
       "      <td>gemma7b</td>\n",
       "    </tr>\n",
       "  </tbody>\n",
       "</table>\n",
       "</div>"
      ],
      "text/plain": [
       "            file_name  vulnerability       model\n",
       "0  gpt4o_mini-34206.c              1  gpt4o_mini\n",
       "1  gemini_pro-14924.c              1  gemini_pro\n",
       "2  falcon180b-35726.c              1  falcon180b\n",
       "3     gemma7b-15674.c              0     gemma7b\n",
       "4      gemma7b-6476.c              1     gemma7b"
      ]
     },
     "execution_count": 1,
     "metadata": {},
     "output_type": "execute_result"
    }
   ],
   "source": [
    "import pandas as pd\n",
    "\n",
    "# Read the CSV file\n",
    "df = pd.read_csv('D:\\\\git\\\\dscp\\\\data\\\\classification_cleaned.csv')\n",
    "\n",
    "# Display the first few rows of the dataframe\n",
    "df.head()"
   ]
  },
  {
   "cell_type": "code",
   "execution_count": 2,
   "metadata": {},
   "outputs": [
    {
     "data": {
      "text/html": [
       "<div>\n",
       "<style scoped>\n",
       "    .dataframe tbody tr th:only-of-type {\n",
       "        vertical-align: middle;\n",
       "    }\n",
       "\n",
       "    .dataframe tbody tr th {\n",
       "        vertical-align: top;\n",
       "    }\n",
       "\n",
       "    .dataframe thead th {\n",
       "        text-align: right;\n",
       "    }\n",
       "</style>\n",
       "<table border=\"1\" class=\"dataframe\">\n",
       "  <thead>\n",
       "    <tr style=\"text-align: right;\">\n",
       "      <th></th>\n",
       "      <th>file_name</th>\n",
       "      <th>vulnerability</th>\n",
       "      <th>model</th>\n",
       "    </tr>\n",
       "  </thead>\n",
       "  <tbody>\n",
       "  </tbody>\n",
       "</table>\n",
       "</div>"
      ],
      "text/plain": [
       "Empty DataFrame\n",
       "Columns: [file_name, vulnerability, model]\n",
       "Index: []"
      ]
     },
     "execution_count": 2,
     "metadata": {},
     "output_type": "execute_result"
    }
   ],
   "source": [
    "# Check for duplicate values in the 'file_name' column\n",
    "duplicate_file_names = df[df.duplicated('file_name', keep=False)]\n",
    "\n",
    "# Display the duplicate file names\n",
    "duplicate_file_names"
   ]
  },
  {
   "cell_type": "code",
   "execution_count": 3,
   "metadata": {},
   "outputs": [
    {
     "data": {
      "text/html": [
       "<div>\n",
       "<style scoped>\n",
       "    .dataframe tbody tr th:only-of-type {\n",
       "        vertical-align: middle;\n",
       "    }\n",
       "\n",
       "    .dataframe tbody tr th {\n",
       "        vertical-align: top;\n",
       "    }\n",
       "\n",
       "    .dataframe thead th {\n",
       "        text-align: right;\n",
       "    }\n",
       "</style>\n",
       "<table border=\"1\" class=\"dataframe\">\n",
       "  <thead>\n",
       "    <tr style=\"text-align: right;\">\n",
       "      <th></th>\n",
       "      <th>model</th>\n",
       "      <th>vulnerability</th>\n",
       "      <th>counts</th>\n",
       "    </tr>\n",
       "  </thead>\n",
       "  <tbody>\n",
       "    <tr>\n",
       "      <th>0</th>\n",
       "      <td>codellama_13b</td>\n",
       "      <td>0</td>\n",
       "      <td>1832</td>\n",
       "    </tr>\n",
       "    <tr>\n",
       "      <th>1</th>\n",
       "      <td>codellama_13b</td>\n",
       "      <td>1</td>\n",
       "      <td>6050</td>\n",
       "    </tr>\n",
       "    <tr>\n",
       "      <th>2</th>\n",
       "      <td>falcon180b</td>\n",
       "      <td>0</td>\n",
       "      <td>4435</td>\n",
       "    </tr>\n",
       "    <tr>\n",
       "      <th>3</th>\n",
       "      <td>falcon180b</td>\n",
       "      <td>1</td>\n",
       "      <td>41570</td>\n",
       "    </tr>\n",
       "    <tr>\n",
       "      <th>4</th>\n",
       "      <td>falcon2</td>\n",
       "      <td>0</td>\n",
       "      <td>1228</td>\n",
       "    </tr>\n",
       "    <tr>\n",
       "      <th>5</th>\n",
       "      <td>falcon2</td>\n",
       "      <td>1</td>\n",
       "      <td>7358</td>\n",
       "    </tr>\n",
       "    <tr>\n",
       "      <th>6</th>\n",
       "      <td>gemini_pro</td>\n",
       "      <td>0</td>\n",
       "      <td>3674</td>\n",
       "    </tr>\n",
       "    <tr>\n",
       "      <th>7</th>\n",
       "      <td>gemini_pro</td>\n",
       "      <td>1</td>\n",
       "      <td>23898</td>\n",
       "    </tr>\n",
       "    <tr>\n",
       "      <th>8</th>\n",
       "      <td>gemma7b</td>\n",
       "      <td>0</td>\n",
       "      <td>4275</td>\n",
       "    </tr>\n",
       "    <tr>\n",
       "      <th>9</th>\n",
       "      <td>gemma7b</td>\n",
       "      <td>1</td>\n",
       "      <td>24137</td>\n",
       "    </tr>\n",
       "    <tr>\n",
       "      <th>10</th>\n",
       "      <td>gpt35</td>\n",
       "      <td>0</td>\n",
       "      <td>5555</td>\n",
       "    </tr>\n",
       "    <tr>\n",
       "      <th>11</th>\n",
       "      <td>gpt35</td>\n",
       "      <td>1</td>\n",
       "      <td>47769</td>\n",
       "    </tr>\n",
       "    <tr>\n",
       "      <th>12</th>\n",
       "      <td>gpt4o_mini</td>\n",
       "      <td>0</td>\n",
       "      <td>1648</td>\n",
       "    </tr>\n",
       "    <tr>\n",
       "      <th>13</th>\n",
       "      <td>gpt4o_mini</td>\n",
       "      <td>1</td>\n",
       "      <td>21284</td>\n",
       "    </tr>\n",
       "    <tr>\n",
       "      <th>14</th>\n",
       "      <td>llama2</td>\n",
       "      <td>0</td>\n",
       "      <td>2197</td>\n",
       "    </tr>\n",
       "    <tr>\n",
       "      <th>15</th>\n",
       "      <td>llama2</td>\n",
       "      <td>1</td>\n",
       "      <td>8660</td>\n",
       "    </tr>\n",
       "    <tr>\n",
       "      <th>16</th>\n",
       "      <td>mistral_7b</td>\n",
       "      <td>0</td>\n",
       "      <td>830</td>\n",
       "    </tr>\n",
       "    <tr>\n",
       "      <th>17</th>\n",
       "      <td>mistral_7b</td>\n",
       "      <td>1</td>\n",
       "      <td>5978</td>\n",
       "    </tr>\n",
       "  </tbody>\n",
       "</table>\n",
       "</div>"
      ],
      "text/plain": [
       "            model  vulnerability  counts\n",
       "0   codellama_13b              0    1832\n",
       "1   codellama_13b              1    6050\n",
       "2      falcon180b              0    4435\n",
       "3      falcon180b              1   41570\n",
       "4         falcon2              0    1228\n",
       "5         falcon2              1    7358\n",
       "6      gemini_pro              0    3674\n",
       "7      gemini_pro              1   23898\n",
       "8         gemma7b              0    4275\n",
       "9         gemma7b              1   24137\n",
       "10          gpt35              0    5555\n",
       "11          gpt35              1   47769\n",
       "12     gpt4o_mini              0    1648\n",
       "13     gpt4o_mini              1   21284\n",
       "14         llama2              0    2197\n",
       "15         llama2              1    8660\n",
       "16     mistral_7b              0     830\n",
       "17     mistral_7b              1    5978"
      ]
     },
     "execution_count": 3,
     "metadata": {},
     "output_type": "execute_result"
    }
   ],
   "source": [
    "# Group by 'model' and 'vulnerability' and count the occurrences\n",
    "grouped_counts = df.groupby(['model', 'vulnerability']).size().reset_index(name='counts')\n",
    "\n",
    "# Display the grouped counts\n",
    "grouped_counts"
   ]
  },
  {
   "cell_type": "code",
   "execution_count": 4,
   "metadata": {},
   "outputs": [],
   "source": [
    "grouped_counts.to_csv('D:\\\\git\\\\dscp\\\\data\\\\classification_grouped_counts.csv', index=False)"
   ]
  },
  {
   "cell_type": "code",
   "execution_count": 5,
   "metadata": {},
   "outputs": [],
   "source": [
    "import pandas as pd\n",
    "from sklearn.model_selection import train_test_split"
   ]
  },
  {
   "cell_type": "code",
   "execution_count": 6,
   "metadata": {},
   "outputs": [],
   "source": [
    "# Define the function to create a balanced dataset\n",
    "def create_balanced_dataset(df, num_samples):\n",
    "    # Calculate the number of samples per group (model and vulnerability)\n",
    "    num_per_group = num_samples // (df['model'].nunique() * df['vulnerability'].nunique())\n",
    "    \n",
    "    # Create a balanced dataset by sampling\n",
    "    balanced_data = df.groupby(['model', 'vulnerability'], group_keys=False).apply(\n",
    "        lambda x: x.sample(min(len(x), num_per_group), random_state=42)\n",
    "    )\n",
    "    \n",
    "    # Adjust if the total size is slightly off due to rounding issues\n",
    "    if len(balanced_data) > num_samples:\n",
    "        balanced_data = balanced_data.sample(n=num_samples, random_state=42)\n",
    "    \n",
    "    return balanced_data"
   ]
  },
  {
   "cell_type": "code",
   "execution_count": 7,
   "metadata": {},
   "outputs": [
    {
     "name": "stderr",
     "output_type": "stream",
     "text": [
      "C:\\Users\\muham\\AppData\\Local\\Temp\\ipykernel_23340\\3223068848.py:7: DeprecationWarning: DataFrameGroupBy.apply operated on the grouping columns. This behavior is deprecated, and in a future version of pandas the grouping columns will be excluded from the operation. Either pass `include_groups=False` to exclude the groupings or explicitly select the grouping columns after groupby to silence this warning.\n",
      "  balanced_data = df.groupby(['model', 'vulnerability'], group_keys=False).apply(\n"
     ]
    }
   ],
   "source": [
    "# Example: Create a balanced dataset with 5000 examples\n",
    "num_samples = 5000\n",
    "balanced_df = create_balanced_dataset(df, num_samples)\n",
    "\n",
    "# Split into train and test sets\n",
    "train_df, test_df = train_test_split(balanced_df, test_size=0.2, random_state=42)"
   ]
  },
  {
   "cell_type": "code",
   "execution_count": 8,
   "metadata": {},
   "outputs": [
    {
     "name": "stdout",
     "output_type": "stream",
     "text": [
      "Train DataFrame Grouped Counts:\n",
      "            model  vulnerability  counts\n",
      "0   codellama_13b              0     212\n",
      "1   codellama_13b              1     222\n",
      "2      falcon180b              0     213\n",
      "3      falcon180b              1     221\n",
      "4         falcon2              0     224\n",
      "5         falcon2              1     208\n",
      "6      gemini_pro              0     225\n",
      "7      gemini_pro              1     223\n",
      "8         gemma7b              0     230\n",
      "9         gemma7b              1     223\n",
      "10          gpt35              0     240\n",
      "11          gpt35              1     231\n",
      "12     gpt4o_mini              0     236\n",
      "13     gpt4o_mini              1     217\n",
      "14         llama2              0     224\n",
      "15         llama2              1     210\n",
      "16     mistral_7b              0     217\n",
      "17     mistral_7b              1     212\n"
     ]
    }
   ],
   "source": [
    "# Group by 'model' and 'vulnerability' and count the occurrences for train_df\n",
    "train_grouped_counts = train_df.groupby(['model', 'vulnerability']).size().reset_index(name='counts')\n",
    "train_grouped_counts.to_csv(f'D:\\\\git\\\\dscp\\\\data\\\\classification_{num_samples}_train_grouped_counts.csv', index=False)\n",
    "\n",
    "# Display the grouped counts\n",
    "print(\"Train DataFrame Grouped Counts:\")\n",
    "print(train_grouped_counts)"
   ]
  },
  {
   "cell_type": "code",
   "execution_count": 9,
   "metadata": {},
   "outputs": [
    {
     "name": "stdout",
     "output_type": "stream",
     "text": [
      "\n",
      "Test DataFrame Grouped Counts:\n",
      "            model  vulnerability  counts\n",
      "0   codellama_13b              0      65\n",
      "1   codellama_13b              1      55\n",
      "2      falcon180b              0      64\n",
      "3      falcon180b              1      56\n",
      "4         falcon2              0      53\n",
      "5         falcon2              1      69\n",
      "6      gemini_pro              0      52\n",
      "7      gemini_pro              1      54\n",
      "8         gemma7b              0      47\n",
      "9         gemma7b              1      54\n",
      "10          gpt35              0      37\n",
      "11          gpt35              1      46\n",
      "12     gpt4o_mini              0      41\n",
      "13     gpt4o_mini              1      60\n",
      "14         llama2              0      53\n",
      "15         llama2              1      67\n",
      "16     mistral_7b              0      60\n",
      "17     mistral_7b              1      65\n"
     ]
    }
   ],
   "source": [
    "# Group by 'model' and 'vulnerability' and count the occurrences for test_df\n",
    "test_grouped_counts = test_df.groupby(['model', 'vulnerability']).size().reset_index(name='counts')\n",
    "test_grouped_counts.to_csv(f'D:\\\\git\\\\dscp\\\\data\\\\classification_{num_samples}_test_grouped_counts.csv', index=False)\n",
    "\n",
    "print(\"\\nTest DataFrame Grouped Counts:\")\n",
    "print(test_grouped_counts)"
   ]
  },
  {
   "cell_type": "code",
   "execution_count": 10,
   "metadata": {},
   "outputs": [
    {
     "name": "stdout",
     "output_type": "stream",
     "text": [
      "Balanced dataset created with 4986 examples.\n",
      "Train set size: 3988\n",
      "Test set size: 998\n"
     ]
    }
   ],
   "source": [
    "train_csv_file = f'D:\\\\git\\\\dscp\\\\data\\\\classification_{num_samples}_train.csv'\n",
    "train_df.to_csv(train_csv_file, index=False)\n",
    "\n",
    "test_csv_file = f'D:\\\\git\\\\dscp\\\\data\\\\classification_{num_samples}_test.csv'\n",
    "test_df.to_csv(test_csv_file, index=False)\n",
    "\n",
    "print(f\"Balanced dataset created with {len(balanced_df)} examples.\")\n",
    "print(f\"Train set size: {len(train_df)}\")\n",
    "print(f\"Test set size: {len(test_df)}\")"
   ]
  }
 ],
 "metadata": {
  "kernelspec": {
   "display_name": "Python 3",
   "language": "python",
   "name": "python3"
  },
  "language_info": {
   "codemirror_mode": {
    "name": "ipython",
    "version": 3
   },
   "file_extension": ".py",
   "mimetype": "text/x-python",
   "name": "python",
   "nbconvert_exporter": "python",
   "pygments_lexer": "ipython3",
   "version": "3.11.5"
  }
 },
 "nbformat": 4,
 "nbformat_minor": 2
}
